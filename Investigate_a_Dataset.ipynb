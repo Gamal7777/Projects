{
 "cells": [
  {
   "cell_type": "markdown",
   "metadata": {},
   "source": [
    "NoShow Appointment Data Analysis\n",
    "---------------------------------------------------"
   ]
  },
  {
   "cell_type": "markdown",
   "metadata": {},
   "source": [
    "### Dataset Description:\n",
    "----------------------------\n",
    "1-This dataset collects information from 100k medical appointments in Brazil and is focused on the question of whether or not patients show up for their appointment. A number of characteristics about the patient are included in each row.\n",
    "\n",
    "2-‘ScheduledDay’ tells us on what day the patient set up their appointment.\n",
    "‘Neighborhood’ indicates the location of the hospital.\n",
    "‘Scholarship’ indicates whether or not the patient is enrolled in Brasilian welfare program Bolsa Família.\n",
    "Be careful about the encoding of the last column: it says ‘No’ if the patient showed up to their appointment, and ‘Yes’ if they did not show up\n",
    "\n",
    "13 dependent variables:\n",
    "Columns names\n",
    "PatientId,AppointmentID\t,Gender,ScheduledDay,AppointmentDay,Age,Neighbourhood,Scholarship,Hipertension,Diabetes,Alcoholism,\tHandicap,SMS_received,\n",
    "only one independent variable\n",
    "No-show\n"
   ]
  },
  {
   "cell_type": "markdown",
   "metadata": {},
   "source": [
    "### Observations:                                                                                                                                                                                  \n",
    "datatype changes:                                                                                                                            \n",
    "1-PatientId column datatype is float have to change to int64                                                                              \n",
    "2-Gender column datatype is object change to string                                                                                      \n",
    "3-ScheduledDay and AppointmentDay columns datatype is object change to datetime                                                            \n",
    "4-Neighbourhood column datatype is object change to string                                                                                \n",
    "5-No-show column datatype is object change to string                                                                                       \n",
    "\n"
   ]
  },
  {
   "cell_type": "markdown",
   "metadata": {},
   "source": [
    "### Important Questions:\n",
    "------------------------------\n",
    "1-Does Gender has effect how people show in the Scheduled day                                                                   \n",
    "2-Do the patients have preference of certain days to show up                                                                    \n",
    "3-Does age has effect how people show in the Scheduled day.                                                                                \n",
    "4-Does the address of the patient has effect on wether the patient will show up or not                                                   \n",
    "5-Does the Scholarship of the patient has effect on wether the patient will show up or not                                             \n",
    "6-If the patient received an SMS,does this affect how he shows up or not.\n",
    "\n"
   ]
  },
  {
   "cell_type": "markdown",
   "metadata": {},
   "source": [
    "## Data Wrangling"
   ]
  },
  {
   "cell_type": "code",
   "execution_count": 1,
   "metadata": {},
   "outputs": [
    {
     "name": "stdout",
     "output_type": "stream",
     "text": [
      "           PatientId  AppointmentID Gender          ScheduledDay  \\\n",
      "0       2.987250e+13        5642903      F  2016-04-29T18:38:08Z   \n",
      "1       5.589978e+14        5642503      M  2016-04-29T16:08:27Z   \n",
      "2       4.262962e+12        5642549      F  2016-04-29T16:19:04Z   \n",
      "3       8.679512e+11        5642828      F  2016-04-29T17:29:31Z   \n",
      "4       8.841186e+12        5642494      F  2016-04-29T16:07:23Z   \n",
      "5       9.598513e+13        5626772      F  2016-04-27T08:36:51Z   \n",
      "6       7.336882e+14        5630279      F  2016-04-27T15:05:12Z   \n",
      "7       3.449833e+12        5630575      F  2016-04-27T15:39:58Z   \n",
      "8       5.639473e+13        5638447      F  2016-04-29T08:02:16Z   \n",
      "9       7.812456e+13        5629123      F  2016-04-27T12:48:25Z   \n",
      "10      7.345362e+14        5630213      F  2016-04-27T14:58:11Z   \n",
      "11      7.542951e+12        5620163      M  2016-04-26T08:44:12Z   \n",
      "12      5.666548e+14        5634718      F  2016-04-28T11:33:51Z   \n",
      "13      9.113946e+14        5636249      M  2016-04-28T14:52:07Z   \n",
      "14      9.988472e+13        5633951      F  2016-04-28T10:06:24Z   \n",
      "15      9.994839e+10        5620206      F  2016-04-26T08:47:27Z   \n",
      "16      8.457439e+13        5633121      M  2016-04-28T08:51:47Z   \n",
      "17      1.479497e+13        5633460      F  2016-04-28T09:28:57Z   \n",
      "18      1.713538e+13        5621836      F  2016-04-26T10:54:18Z   \n",
      "19      7.223289e+12        5640433      F  2016-04-29T10:43:14Z   \n",
      "20      6.222575e+14        5626083      F  2016-04-27T07:51:14Z   \n",
      "21      1.215484e+13        5628338      F  2016-04-27T10:50:45Z   \n",
      "22      8.632298e+14        5616091      M  2016-04-25T13:29:16Z   \n",
      "23      2.137540e+14        5634142      F  2016-04-28T10:27:05Z   \n",
      "24      8.734858e+12        5641780      F  2016-04-29T14:19:19Z   \n",
      "25      5.819370e+12        5624020      M  2016-04-26T15:04:17Z   \n",
      "26      2.578785e+10        5641781      F  2016-04-29T14:19:42Z   \n",
      "27      1.215484e+13        5628345      F  2016-04-27T10:51:45Z   \n",
      "28      5.926172e+12        5642400      M  2016-04-29T15:48:02Z   \n",
      "29      1.225776e+12        5642186      F  2016-04-29T15:16:29Z   \n",
      "...              ...            ...    ...                   ...   \n",
      "110497  7.935892e+14        5757745      M  2016-06-01T09:46:33Z   \n",
      "110498  9.433654e+13        5787655      F  2016-06-08T10:21:14Z   \n",
      "110499  8.219692e+14        5757697      F  2016-06-01T09:42:56Z   \n",
      "110500  4.434384e+14        5787233      F  2016-06-08T09:35:13Z   \n",
      "110501  4.544252e+11        5758133      M  2016-06-01T10:19:12Z   \n",
      "110502  7.316229e+14        5787937      F  2016-06-08T10:50:42Z   \n",
      "110503  2.362182e+13        5759473      F  2016-06-01T13:00:36Z   \n",
      "110504  9.947983e+12        5788052      F  2016-06-08T11:06:21Z   \n",
      "110505  5.667344e+13        5758455      F  2016-06-01T10:45:50Z   \n",
      "110506  8.973883e+11        5758779      M  2016-06-01T11:09:20Z   \n",
      "110507  4.769462e+14        5786918      F  2016-06-08T09:04:18Z   \n",
      "110508  9.433654e+13        5757656      F  2016-06-01T09:41:00Z   \n",
      "110509  4.952968e+14        5786750      M  2016-06-08T08:50:51Z   \n",
      "110510  2.362182e+13        5757587      F  2016-06-01T09:35:48Z   \n",
      "110511  8.235996e+11        5786742      F  2016-06-08T08:50:20Z   \n",
      "110512  9.876246e+13        5786368      F  2016-06-08T08:20:01Z   \n",
      "110513  8.674778e+13        5785964      M  2016-06-08T07:52:55Z   \n",
      "110514  2.695685e+12        5786567      F  2016-06-08T08:35:31Z   \n",
      "110515  6.456342e+14        5778621      M  2016-06-06T15:58:05Z   \n",
      "110516  6.923772e+13        5780205      F  2016-06-07T07:45:16Z   \n",
      "110517  5.574942e+12        5780122      F  2016-06-07T07:38:34Z   \n",
      "110518  7.263315e+13        5630375      F  2016-04-27T15:15:06Z   \n",
      "110519  6.542388e+13        5630447      F  2016-04-27T15:23:14Z   \n",
      "110520  9.969977e+14        5650534      F  2016-05-03T07:51:47Z   \n",
      "110521  3.635534e+13        5651072      F  2016-05-03T08:23:40Z   \n",
      "110522  2.572134e+12        5651768      F  2016-05-03T09:15:35Z   \n",
      "110523  3.596266e+12        5650093      F  2016-05-03T07:27:33Z   \n",
      "110524  1.557663e+13        5630692      F  2016-04-27T16:03:52Z   \n",
      "110525  9.213493e+13        5630323      F  2016-04-27T15:09:23Z   \n",
      "110526  3.775115e+14        5629448      F  2016-04-27T13:30:56Z   \n",
      "\n",
      "              AppointmentDay  Age      Neighbourhood  Scholarship  \\\n",
      "0       2016-04-29T00:00:00Z   62    JARDIM DA PENHA            0   \n",
      "1       2016-04-29T00:00:00Z   56    JARDIM DA PENHA            0   \n",
      "2       2016-04-29T00:00:00Z   62      MATA DA PRAIA            0   \n",
      "3       2016-04-29T00:00:00Z    8  PONTAL DE CAMBURI            0   \n",
      "4       2016-04-29T00:00:00Z   56    JARDIM DA PENHA            0   \n",
      "5       2016-04-29T00:00:00Z   76          REPÚBLICA            0   \n",
      "6       2016-04-29T00:00:00Z   23         GOIABEIRAS            0   \n",
      "7       2016-04-29T00:00:00Z   39         GOIABEIRAS            0   \n",
      "8       2016-04-29T00:00:00Z   21         ANDORINHAS            0   \n",
      "9       2016-04-29T00:00:00Z   19          CONQUISTA            0   \n",
      "10      2016-04-29T00:00:00Z   30     NOVA PALESTINA            0   \n",
      "11      2016-04-29T00:00:00Z   29     NOVA PALESTINA            0   \n",
      "12      2016-04-29T00:00:00Z   22     NOVA PALESTINA            1   \n",
      "13      2016-04-29T00:00:00Z   28     NOVA PALESTINA            0   \n",
      "14      2016-04-29T00:00:00Z   54     NOVA PALESTINA            0   \n",
      "15      2016-04-29T00:00:00Z   15     NOVA PALESTINA            0   \n",
      "16      2016-04-29T00:00:00Z   50     NOVA PALESTINA            0   \n",
      "17      2016-04-29T00:00:00Z   40          CONQUISTA            1   \n",
      "18      2016-04-29T00:00:00Z   30     NOVA PALESTINA            1   \n",
      "19      2016-04-29T00:00:00Z   46           DA PENHA            0   \n",
      "20      2016-04-29T00:00:00Z   30     NOVA PALESTINA            0   \n",
      "21      2016-04-29T00:00:00Z    4          CONQUISTA            0   \n",
      "22      2016-04-29T00:00:00Z   13          CONQUISTA            0   \n",
      "23      2016-04-29T00:00:00Z   46          CONQUISTA            0   \n",
      "24      2016-04-29T00:00:00Z   65         TABUAZEIRO            0   \n",
      "25      2016-04-29T00:00:00Z   46          CONQUISTA            0   \n",
      "26      2016-04-29T00:00:00Z   45     BENTO FERREIRA            0   \n",
      "27      2016-04-29T00:00:00Z    4          CONQUISTA            0   \n",
      "28      2016-04-29T00:00:00Z   51          SÃO PEDRO            0   \n",
      "29      2016-04-29T00:00:00Z   32       SANTA MARTHA            0   \n",
      "...                      ...  ...                ...          ...   \n",
      "110497  2016-06-01T00:00:00Z   76        MARIA ORTIZ            0   \n",
      "110498  2016-06-08T00:00:00Z   59        MARIA ORTIZ            0   \n",
      "110499  2016-06-01T00:00:00Z   66        MARIA ORTIZ            0   \n",
      "110500  2016-06-08T00:00:00Z   59        MARIA ORTIZ            0   \n",
      "110501  2016-06-01T00:00:00Z   44        MARIA ORTIZ            0   \n",
      "110502  2016-06-08T00:00:00Z   22         GOIABEIRAS            0   \n",
      "110503  2016-06-01T00:00:00Z   64       SOLON BORGES            0   \n",
      "110504  2016-06-08T00:00:00Z    4        MARIA ORTIZ            0   \n",
      "110505  2016-06-01T00:00:00Z   55        MARIA ORTIZ            0   \n",
      "110506  2016-06-01T00:00:00Z    5        MARIA ORTIZ            0   \n",
      "110507  2016-06-08T00:00:00Z    0        MARIA ORTIZ            0   \n",
      "110508  2016-06-01T00:00:00Z   59        MARIA ORTIZ            0   \n",
      "110509  2016-06-08T00:00:00Z   33        MARIA ORTIZ            0   \n",
      "110510  2016-06-01T00:00:00Z   64       SOLON BORGES            0   \n",
      "110511  2016-06-08T00:00:00Z   14        MARIA ORTIZ            0   \n",
      "110512  2016-06-08T00:00:00Z   41        MARIA ORTIZ            0   \n",
      "110513  2016-06-08T00:00:00Z    2    ANTÔNIO HONÓRIO            0   \n",
      "110514  2016-06-08T00:00:00Z   58        MARIA ORTIZ            0   \n",
      "110515  2016-06-08T00:00:00Z   33        MARIA ORTIZ            0   \n",
      "110516  2016-06-08T00:00:00Z   37        MARIA ORTIZ            0   \n",
      "110517  2016-06-07T00:00:00Z   19        MARIA ORTIZ            0   \n",
      "110518  2016-06-07T00:00:00Z   50        MARIA ORTIZ            0   \n",
      "110519  2016-06-07T00:00:00Z   22        MARIA ORTIZ            0   \n",
      "110520  2016-06-07T00:00:00Z   42        MARIA ORTIZ            0   \n",
      "110521  2016-06-07T00:00:00Z   53        MARIA ORTIZ            0   \n",
      "110522  2016-06-07T00:00:00Z   56        MARIA ORTIZ            0   \n",
      "110523  2016-06-07T00:00:00Z   51        MARIA ORTIZ            0   \n",
      "110524  2016-06-07T00:00:00Z   21        MARIA ORTIZ            0   \n",
      "110525  2016-06-07T00:00:00Z   38        MARIA ORTIZ            0   \n",
      "110526  2016-06-07T00:00:00Z   54        MARIA ORTIZ            0   \n",
      "\n",
      "        Hipertension  Diabetes  Alcoholism  Handcap  SMS_received No-show  \n",
      "0                  1         0           0        0             0      No  \n",
      "1                  0         0           0        0             0      No  \n",
      "2                  0         0           0        0             0      No  \n",
      "3                  0         0           0        0             0      No  \n",
      "4                  1         1           0        0             0      No  \n",
      "5                  1         0           0        0             0      No  \n",
      "6                  0         0           0        0             0     Yes  \n",
      "7                  0         0           0        0             0     Yes  \n",
      "8                  0         0           0        0             0      No  \n",
      "9                  0         0           0        0             0      No  \n",
      "10                 0         0           0        0             0      No  \n",
      "11                 0         0           0        0             1     Yes  \n",
      "12                 0         0           0        0             0      No  \n",
      "13                 0         0           0        0             0      No  \n",
      "14                 0         0           0        0             0      No  \n",
      "15                 0         0           0        0             1      No  \n",
      "16                 0         0           0        0             0      No  \n",
      "17                 0         0           0        0             0     Yes  \n",
      "18                 0         0           0        0             1      No  \n",
      "19                 0         0           0        0             0      No  \n",
      "20                 0         0           0        0             0     Yes  \n",
      "21                 0         0           0        0             0     Yes  \n",
      "22                 0         0           0        0             1     Yes  \n",
      "23                 0         0           0        0             0      No  \n",
      "24                 0         0           0        0             0      No  \n",
      "25                 1         0           0        0             1      No  \n",
      "26                 1         0           0        0             0      No  \n",
      "27                 0         0           0        0             0      No  \n",
      "28                 0         0           0        0             0      No  \n",
      "29                 0         0           0        0             0      No  \n",
      "...              ...       ...         ...      ...           ...     ...  \n",
      "110497             0         0           0        0             0      No  \n",
      "110498             0         0           0        0             0      No  \n",
      "110499             1         1           0        0             0      No  \n",
      "110500             0         0           0        0             0      No  \n",
      "110501             0         0           0        0             0      No  \n",
      "110502             0         0           0        0             0      No  \n",
      "110503             0         0           0        0             0      No  \n",
      "110504             0         0           0        0             0      No  \n",
      "110505             0         0           0        0             0      No  \n",
      "110506             0         0           0        0             0      No  \n",
      "110507             0         0           0        0             0      No  \n",
      "110508             0         0           0        0             0      No  \n",
      "110509             0         0           0        0             0      No  \n",
      "110510             0         0           0        0             0      No  \n",
      "110511             0         0           0        0             0      No  \n",
      "110512             0         0           0        0             0      No  \n",
      "110513             0         0           0        0             0      No  \n",
      "110514             0         0           0        0             0      No  \n",
      "110515             1         0           0        0             0     Yes  \n",
      "110516             0         0           0        0             0     Yes  \n",
      "110517             0         0           0        0             0      No  \n",
      "110518             0         0           0        0             1      No  \n",
      "110519             0         0           0        0             1      No  \n",
      "110520             0         0           0        0             1      No  \n",
      "110521             0         0           0        0             1      No  \n",
      "110522             0         0           0        0             1      No  \n",
      "110523             0         0           0        0             1      No  \n",
      "110524             0         0           0        0             1      No  \n",
      "110525             0         0           0        0             1      No  \n",
      "110526             0         0           0        0             1      No  \n",
      "\n",
      "[110527 rows x 14 columns]\n"
     ]
    }
   ],
   "source": [
    "# Use this cell to set up import statements for all of the packages that you\n",
    "#   plan to use.\n",
    "import numpy as np\n",
    "import pandas as pd\n",
    "from datetime import datetime\n",
    "import matplotlib.pyplot as plt\n",
    "df=pd.read_csv('noshowappointments.csv')\n",
    "print(df)\n",
    "\n",
    "# Remember to include a 'magic word' so that your visualizations are plotted\n",
    "#   inline with the notebook. See this page for more:\n",
    "# http://ipython.readthedocs.io/en/stable/interactive/magics.html\n"
   ]
  },
  {
   "cell_type": "markdown",
   "metadata": {},
   "source": [
    "#### Remove unnecessary columns"
   ]
  },
  {
   "cell_type": "code",
   "execution_count": 2,
   "metadata": {},
   "outputs": [],
   "source": [
    "#create function receive list and data frame and returns a dataframe after droping a column\n",
    "# input : data ,type: dataframe object\n",
    "#input  :lst   ,type: list \n",
    "def drop_col(data,lst):\n",
    " return data.drop(lst, axis=1, inplace=True) \n",
    "\n",
    "drop_col(df,['PatientId', 'AppointmentID'])"
   ]
  },
  {
   "cell_type": "code",
   "execution_count": 3,
   "metadata": {},
   "outputs": [
    {
     "name": "stdout",
     "output_type": "stream",
     "text": [
      "<class 'pandas.core.frame.DataFrame'>\n",
      "RangeIndex: 110527 entries, 0 to 110526\n",
      "Data columns (total 12 columns):\n",
      "Gender            110527 non-null object\n",
      "ScheduledDay      110527 non-null object\n",
      "AppointmentDay    110527 non-null object\n",
      "Age               110527 non-null int64\n",
      "Neighbourhood     110527 non-null object\n",
      "Scholarship       110527 non-null int64\n",
      "Hipertension      110527 non-null int64\n",
      "Diabetes          110527 non-null int64\n",
      "Alcoholism        110527 non-null int64\n",
      "Handcap           110527 non-null int64\n",
      "SMS_received      110527 non-null int64\n",
      "No-show           110527 non-null object\n",
      "dtypes: int64(7), object(5)\n",
      "memory usage: 10.1+ MB\n"
     ]
    }
   ],
   "source": [
    "df.info()"
   ]
  },
  {
   "cell_type": "markdown",
   "metadata": {},
   "source": [
    "#### Rename columns to a standard form"
   ]
  },
  {
   "cell_type": "code",
   "execution_count": 4,
   "metadata": {},
   "outputs": [
    {
     "name": "stdout",
     "output_type": "stream",
     "text": [
      "<class 'pandas.core.frame.DataFrame'>\n",
      "RangeIndex: 110527 entries, 0 to 110526\n",
      "Data columns (total 12 columns):\n",
      "Gender            110527 non-null object\n",
      "ScheduledDay      110527 non-null object\n",
      "AppointmentDay    110527 non-null object\n",
      "Age               110527 non-null int64\n",
      "Neighbourhood     110527 non-null object\n",
      "Scholarship       110527 non-null int64\n",
      "Hypertension      110527 non-null int64\n",
      "Diabetes          110527 non-null int64\n",
      "Alcoholism        110527 non-null int64\n",
      "Handicap          110527 non-null int64\n",
      "SMS_received      110527 non-null int64\n",
      "No_show           110527 non-null object\n",
      "dtypes: int64(7), object(5)\n",
      "memory usage: 10.1+ MB\n"
     ]
    }
   ],
   "source": [
    "df.rename(columns = {'Hipertension': 'Hypertension',\n",
    "                'Handcap': 'Handicap','No-show':'No_show'}, inplace = True)\n",
    "df.info()"
   ]
  },
  {
   "cell_type": "markdown",
   "metadata": {},
   "source": [
    "#### Change Data types"
   ]
  },
  {
   "cell_type": "code",
   "execution_count": 5,
   "metadata": {},
   "outputs": [
    {
     "name": "stdout",
     "output_type": "stream",
     "text": [
      "0   2016-04-29 18:38:08\n",
      "1   2016-04-29 16:08:27\n",
      "2   2016-04-29 16:19:04\n",
      "3   2016-04-29 17:29:31\n",
      "4   2016-04-29 16:07:23\n",
      "Name: ScheduledDay, dtype: datetime64[ns]\n",
      "\n",
      "\n",
      "0   2016-04-29\n",
      "1   2016-04-29\n",
      "2   2016-04-29\n",
      "3   2016-04-29\n",
      "4   2016-04-29\n",
      "Name: AppointmentDay, dtype: datetime64[ns]\n"
     ]
    },
    {
     "data": {
      "text/plain": [
       "0            Friday\n",
       "1            Friday\n",
       "2            Friday\n",
       "3            Friday\n",
       "4            Friday\n",
       "5            Friday\n",
       "6            Friday\n",
       "7            Friday\n",
       "8            Friday\n",
       "9            Friday\n",
       "10           Friday\n",
       "11           Friday\n",
       "12           Friday\n",
       "13           Friday\n",
       "14           Friday\n",
       "15           Friday\n",
       "16           Friday\n",
       "17           Friday\n",
       "18           Friday\n",
       "19           Friday\n",
       "20           Friday\n",
       "21           Friday\n",
       "22           Friday\n",
       "23           Friday\n",
       "24           Friday\n",
       "25           Friday\n",
       "26           Friday\n",
       "27           Friday\n",
       "28           Friday\n",
       "29           Friday\n",
       "            ...    \n",
       "110497    Wednesday\n",
       "110498    Wednesday\n",
       "110499    Wednesday\n",
       "110500    Wednesday\n",
       "110501    Wednesday\n",
       "110502    Wednesday\n",
       "110503    Wednesday\n",
       "110504    Wednesday\n",
       "110505    Wednesday\n",
       "110506    Wednesday\n",
       "110507    Wednesday\n",
       "110508    Wednesday\n",
       "110509    Wednesday\n",
       "110510    Wednesday\n",
       "110511    Wednesday\n",
       "110512    Wednesday\n",
       "110513    Wednesday\n",
       "110514    Wednesday\n",
       "110515    Wednesday\n",
       "110516    Wednesday\n",
       "110517      Tuesday\n",
       "110518      Tuesday\n",
       "110519      Tuesday\n",
       "110520      Tuesday\n",
       "110521      Tuesday\n",
       "110522      Tuesday\n",
       "110523      Tuesday\n",
       "110524      Tuesday\n",
       "110525      Tuesday\n",
       "110526      Tuesday\n",
       "Name: AppointmentDayName, Length: 110527, dtype: object"
      ]
     },
     "execution_count": 5,
     "metadata": {},
     "output_type": "execute_result"
    }
   ],
   "source": [
    "df['Gender']=df['Gender'].astype('str')\n",
    "# Replace bad data\n",
    "df['ScheduledDay']= df['ScheduledDay'].replace('T',' ').replace('Z',' ')\n",
    "df['ScheduledDay']=df['ScheduledDay'].astype('datetime64[ns]')\n",
    "\n",
    "\n",
    "df['AppointmentDay']= df['AppointmentDay'].replace('T',' ').replace('Z',' ') \n",
    "df['AppointmentDay']=df['AppointmentDay'].astype('datetime64[ns]')\n",
    "\n",
    "# Applying this to the whole columns using the .to_datetime() method in panads\n",
    "df['ScheduledDay'] = pd.to_datetime(df['ScheduledDay'], format='%Y-%m-%d')\n",
    "print(df['ScheduledDay'].head())\n",
    "print('\\n')\n",
    "df['AppointmentDay'] = pd.to_datetime(df['AppointmentDay'], format='%Y-%m-%d')\n",
    "print(df['AppointmentDay'].head())\n",
    " #Create new field for day name \n",
    "df['AppointmentDayName']=df['AppointmentDay'].dt.day_name()\n",
    "\n",
    "df['AppointmentDayName']\n"
   ]
  },
  {
   "cell_type": "markdown",
   "metadata": {},
   "source": [
    "### Convert fields to boolean\n",
    "replace 'No' and'Yes' to 0 and 1 and change 'Scholarship', 'Hypertension', 'Alcoholism', 'Diabetes', 'SMS_received', 'No_show' fields to boolean datatype\n",
    "Note:I get the help of this code from  https://github.com/stefan-cornelissen/Investigate-a-Dataset---No-Shows-Medical-Appointments-Brazil-Udacity-Project/blob/master/Udacity%20Project%20Investigate%20a%20Dataset.ipynb"
   ]
  },
  {
   "cell_type": "code",
   "execution_count": 6,
   "metadata": {},
   "outputs": [
    {
     "name": "stdout",
     "output_type": "stream",
     "text": [
      "False    99666\n",
      "True     10861\n",
      "Name: Scholarship, dtype: int64\n",
      "\n",
      "\n",
      "False    88726\n",
      "True     21801\n",
      "Name: Hypertension, dtype: int64\n",
      "\n",
      "\n",
      "False    107167\n",
      "True       3360\n",
      "Name: Alcoholism, dtype: int64\n",
      "\n",
      "\n",
      "False    102584\n",
      "True       7943\n",
      "Name: Diabetes, dtype: int64\n",
      "\n",
      "\n",
      "False    75045\n",
      "True     35482\n",
      "Name: SMS_received, dtype: int64\n",
      "\n",
      "\n",
      "False    88208\n",
      "True     22319\n",
      "Name: No_show, dtype: int64\n",
      "\n",
      "\n"
     ]
    }
   ],
   "source": [
    "df['No_show'].replace({'No': 0, 'Yes': 1}, inplace = True)\n",
    "\n",
    "bool_columns=['Scholarship', 'Hypertension', 'Alcoholism', 'Diabetes', 'SMS_received', 'No_show']\n",
    "for column in df[bool_columns]:\n",
    "    #Conversion to boolean, by iterating through concerning colums.\n",
    "    df[column] = df[column].astype('bool', inplace=True)\n",
    "    \n",
    "    #Check conversion took place corretly?\n",
    "    print(df[column].value_counts())\n",
    "    print('\\n')\n",
    "\n",
    "#Check whether conversion took place correctly. Answer: yes, identitical amounts of '0' resp. 'False' and  \n",
    "# '1' resp. 'True' values."
   ]
  },
  {
   "cell_type": "markdown",
   "metadata": {},
   "source": [
    "#### Remove duplicate rows"
   ]
  },
  {
   "cell_type": "code",
   "execution_count": 7,
   "metadata": {},
   "outputs": [
    {
     "name": "stdout",
     "output_type": "stream",
     "text": [
      "Duplicated count:  635\n",
      "Duplicated count:  0\n"
     ]
    }
   ],
   "source": [
    "#create function receive string and data frame that prints count of duplicated rows\n",
    "# input : str ,type: string\n",
    "#input  :data   ,type: dataframe \n",
    "def print_dublicate(str,data):\n",
    "   print(str,sum(data.duplicated()))\n",
    "\n",
    "print_dublicate('Duplicated count: ',df)\n",
    "df.drop_duplicates( inplace = True)\n",
    "print_dublicate('Duplicated count: ',df)"
   ]
  },
  {
   "cell_type": "markdown",
   "metadata": {},
   "source": [
    "#### Cleaning data in the age column converting negative values to the mean age"
   ]
  },
  {
   "cell_type": "code",
   "execution_count": 8,
   "metadata": {},
   "outputs": [],
   "source": [
    "df[df['Age'] <= 0] = df['Age'].mean()"
   ]
  },
  {
   "cell_type": "markdown",
   "metadata": {},
   "source": [
    "#### Find NaN values"
   ]
  },
  {
   "cell_type": "code",
   "execution_count": 9,
   "metadata": {},
   "outputs": [
    {
     "data": {
      "text/plain": [
       "Gender                0\n",
       "ScheduledDay          0\n",
       "AppointmentDay        0\n",
       "Age                   0\n",
       "Neighbourhood         0\n",
       "Scholarship           0\n",
       "Hypertension          0\n",
       "Diabetes              0\n",
       "Alcoholism            0\n",
       "Handicap              0\n",
       "SMS_received          0\n",
       "No_show               0\n",
       "AppointmentDayName    0\n",
       "dtype: int64"
      ]
     },
     "execution_count": 9,
     "metadata": {},
     "output_type": "execute_result"
    }
   ],
   "source": [
    "pd.isna(df).sum()"
   ]
  },
  {
   "cell_type": "markdown",
   "metadata": {},
   "source": [
    "#### Remove wrong data in 'Gender' column"
   ]
  },
  {
   "cell_type": "code",
   "execution_count": 10,
   "metadata": {},
   "outputs": [
    {
     "name": "stdout",
     "output_type": "stream",
     "text": [
      "['F' 'M'] [ 0.  1.  2.  3.  4.] [False True] [False True]\n"
     ]
    }
   ],
   "source": [
    "a= df[df[\"Gender\"]==37.08950606049576].index\n",
    "b= df[df[\"Handicap\"]==37.08950606].index\n",
    "df.drop(index= a,axis=0,inplace= True)\n",
    "df.drop(index= b,axis=0,inplace= True)\n",
    "\n",
    "a= df[\"Gender\"].unique()\n",
    "b= df[\"Handicap\"].unique()\n",
    "c= df[\"Scholarship\"].unique()\n",
    "d= df[\"No_show\"].unique()\n",
    "print(a,b,c,d)\n"
   ]
  },
  {
   "cell_type": "markdown",
   "metadata": {},
   "source": [
    "## Exploratory Data Analysis\n"
   ]
  },
  {
   "cell_type": "code",
   "execution_count": 11,
   "metadata": {},
   "outputs": [
    {
     "data": {
      "text/html": [
       "<div>\n",
       "<style scoped>\n",
       "    .dataframe tbody tr th:only-of-type {\n",
       "        vertical-align: middle;\n",
       "    }\n",
       "\n",
       "    .dataframe tbody tr th {\n",
       "        vertical-align: top;\n",
       "    }\n",
       "\n",
       "    .dataframe thead th {\n",
       "        text-align: right;\n",
       "    }\n",
       "</style>\n",
       "<table border=\"1\" class=\"dataframe\">\n",
       "  <thead>\n",
       "    <tr style=\"text-align: right;\">\n",
       "      <th></th>\n",
       "      <th>Age</th>\n",
       "      <th>Handicap</th>\n",
       "    </tr>\n",
       "  </thead>\n",
       "  <tbody>\n",
       "    <tr>\n",
       "      <th>count</th>\n",
       "      <td>106361.000000</td>\n",
       "      <td>106361.000000</td>\n",
       "    </tr>\n",
       "    <tr>\n",
       "      <th>mean</th>\n",
       "      <td>38.320822</td>\n",
       "      <td>0.022856</td>\n",
       "    </tr>\n",
       "    <tr>\n",
       "      <th>std</th>\n",
       "      <td>22.475574</td>\n",
       "      <td>0.163448</td>\n",
       "    </tr>\n",
       "    <tr>\n",
       "      <th>min</th>\n",
       "      <td>1.000000</td>\n",
       "      <td>0.000000</td>\n",
       "    </tr>\n",
       "    <tr>\n",
       "      <th>25%</th>\n",
       "      <td>19.000000</td>\n",
       "      <td>0.000000</td>\n",
       "    </tr>\n",
       "    <tr>\n",
       "      <th>50%</th>\n",
       "      <td>38.000000</td>\n",
       "      <td>0.000000</td>\n",
       "    </tr>\n",
       "    <tr>\n",
       "      <th>75%</th>\n",
       "      <td>56.000000</td>\n",
       "      <td>0.000000</td>\n",
       "    </tr>\n",
       "    <tr>\n",
       "      <th>max</th>\n",
       "      <td>115.000000</td>\n",
       "      <td>4.000000</td>\n",
       "    </tr>\n",
       "  </tbody>\n",
       "</table>\n",
       "</div>"
      ],
      "text/plain": [
       "                 Age       Handicap\n",
       "count  106361.000000  106361.000000\n",
       "mean       38.320822       0.022856\n",
       "std        22.475574       0.163448\n",
       "min         1.000000       0.000000\n",
       "25%        19.000000       0.000000\n",
       "50%        38.000000       0.000000\n",
       "75%        56.000000       0.000000\n",
       "max       115.000000       4.000000"
      ]
     },
     "execution_count": 11,
     "metadata": {},
     "output_type": "execute_result"
    }
   ],
   "source": [
    "df.describe()\n"
   ]
  },
  {
   "cell_type": "code",
   "execution_count": 12,
   "metadata": {},
   "outputs": [
    {
     "data": {
      "text/plain": [
       "array([[<matplotlib.axes._subplots.AxesSubplot object at 0x7f541af8a978>,\n",
       "        <matplotlib.axes._subplots.AxesSubplot object at 0x7f54194f92b0>]], dtype=object)"
      ]
     },
     "execution_count": 12,
     "metadata": {},
     "output_type": "execute_result"
    },
    {
     "data": {
      "image/png": "[encoded data removed]",
      "text/plain": [
       "<matplotlib.figure.Figure at 0x7f541af86710>"
      ]
     },
     "metadata": {
      "needs_background": "light"
     },
     "output_type": "display_data"
    }
   ],
   "source": [
    "df.hist()\n",
    "\n"
   ]
  },
  {
   "cell_type": "code",
   "execution_count": 13,
   "metadata": {},
   "outputs": [
    {
     "data": {
      "text/plain": [
       "Text(0,0.5,'Handicap')"
      ]
     },
     "execution_count": 13,
     "metadata": {},
     "output_type": "execute_result"
    },
    {
     "data": {
      "image/png": "[encoded data removed]",
      "text/plain": [
       "<matplotlib.figure.Figure at 0x7f5419499940>"
      ]
     },
     "metadata": {
      "needs_background": "light"
     },
     "output_type": "display_data"
    }
   ],
   "source": [
    "plt.hist2d(df['Age'], df['Handicap'], cmap='Reds',bins=8);\n",
    "plt.title('Age vs Handicap')\n",
    "plt.xlabel('Age')\n",
    "plt.ylabel('Handicap')"
   ]
  },
  {
   "cell_type": "markdown",
   "metadata": {},
   "source": [
    "### Research Question 1  (Does Gender has effect how people show in the Scheduled day)"
   ]
  },
  {
   "cell_type": "code",
   "execution_count": 14,
   "metadata": {
    "scrolled": true
   },
   "outputs": [
    {
     "data": {
      "image/png": "[encoded data removed]",
      "text/plain": [
       "<matplotlib.figure.Figure at 0x7f5417135da0>"
      ]
     },
     "metadata": {},
     "output_type": "display_data"
    },
    {
     "name": "stdout",
     "output_type": "stream",
     "text": [
      "No of patients do not show:  21462\n",
      "No of patients shows in time:  84899\n",
      "No of Females in total:  69699\n",
      "No of males in total:  36662\n",
      "ratio of noshow females to total females:  0.202829308885\n",
      "ratio of noshow males to total females:  0.199798156129\n"
     ]
    }
   ],
   "source": [
    "#create a list of count of males and females that do not show\n",
    "Gender_Noshow=list(df[df['No_show']==1].groupby('Gender')['No_show'].count())\n",
    "\n",
    "#scaling no of total females and males to get good indication\n",
    "Noshow_females_scaled=Gender_Noshow[0]/df[df['Gender']=='F']['Gender'].count()\n",
    "Noshow_males_scaled=Gender_Noshow[1]/df[df['Gender']=='M']['Gender'].count()\n",
    "Noshow_males=Gender_Noshow[1]\n",
    "\n",
    "plt.pie([Noshow_females_scaled,Noshow_males_scaled], labels=('female noshow','male noshow'),explode = [0.1,0.1],autopct ='%1.1f%%')\n",
    "plt.axis('equal')\n",
    "plt.title('Gender effect how people show in the Scheduled day')\n",
    "plt.show()\n",
    "print('No of patients do not show: ',df[df['No_show']==1]['No_show'].count())\n",
    "print('No of patients shows in time: ',df[df['No_show']==0]['No_show'].count())\n",
    "print('No of Females in total: ',df[df['Gender']=='F']['Gender'].count())\n",
    "print('No of males in total: ',df[df['Gender']=='M']['Gender'].count())\n",
    "print('ratio of noshow females to total females: ',Noshow_females_scaled)\n",
    "print('ratio of noshow males to total females: ',Noshow_males_scaled)\n",
    "\n",
    "\n"
   ]
  },
  {
   "cell_type": "markdown",
   "metadata": {},
   "source": [
    "As we see Gender has no effect on wether the patient will show on the appointment day or not because the\n",
    "ratio of each gender no-show to the total number of that gender is equal as the statistical data"
   ]
  },
  {
   "cell_type": "markdown",
   "metadata": {},
   "source": [
    "### Research Question 2(Do the patients have preference of certain days to show up)"
   ]
  },
  {
   "cell_type": "code",
   "execution_count": 15,
   "metadata": {},
   "outputs": [
    {
     "data": {
      "image/png": "[encoded data removed]",
      "text/plain": [
       "<matplotlib.figure.Figure at 0x7f54193c0a90>"
      ]
     },
     "metadata": {
      "needs_background": "light"
     },
     "output_type": "display_data"
    }
   ],
   "source": [
    "### \n",
    "\n",
    "df_day_showup=df[df['No_show']==0]['AppointmentDayName']\n",
    "df_day_showup.hist();\n",
    "plt.xlabel('Day');\n",
    "plt.ylabel('Frequency');\n",
    "plt.title('Week day effect how people show in the Scheduled day');"
   ]
  },
  {
   "cell_type": "markdown",
   "metadata": {},
   "source": [
    " It appears thatPatients prefer go to hospital on Teusday and Wednsday more  fairly frequently"
   ]
  },
  {
   "cell_type": "markdown",
   "metadata": {},
   "source": [
    "### Research Question 3 :Does age has effect how people show in or not in the appointment day"
   ]
  },
  {
   "cell_type": "code",
   "execution_count": 16,
   "metadata": {
    "scrolled": true
   },
   "outputs": [
    {
     "data": {
      "text/plain": [
       "Text(0,0.5,'Frequency')"
      ]
     },
     "execution_count": 16,
     "metadata": {},
     "output_type": "execute_result"
    },
    {
     "data": {
      "image/png": "[encoded data removed]",
      "text/plain": [
       "<matplotlib.figure.Figure at 0x7f54193fab38>"
      ]
     },
     "metadata": {
      "needs_background": "light"
     },
     "output_type": "display_data"
    }
   ],
   "source": [
    "#ages of patients no show on time\n",
    "age_noShow=df[df['No_show']==1]['Age']\n",
    "\n",
    "age_noShow.hist(color='r',alpha=0.3);\n",
    "df['Age'].hist(color='y',alpha=0.3);\n",
    "plt.legend(['No show', 'All'])\n",
    "plt.title('Age vs noshow')\n",
    "plt.xlabel('Age')\n",
    "plt.ylabel('Frequency')\n",
    "\n"
   ]
  },
  {
   "cell_type": "code",
   "execution_count": 17,
   "metadata": {},
   "outputs": [
    {
     "name": "stdout",
     "output_type": "stream",
     "text": [
      "Average age does not show in time:  35.2998788557\n",
      "Average age  show in time:  39.0845004064\n"
     ]
    },
    {
     "data": {
      "image/png": "[encoded data removed]",
      "text/plain": [
       "<matplotlib.figure.Figure at 0x7f541940cb70>"
      ]
     },
     "metadata": {
      "needs_background": "light"
     },
     "output_type": "display_data"
    }
   ],
   "source": [
    "plt.scatter(df['Age'],df['No_show']);\n",
    "print('Average age does not show in time: ',df[df['No_show']==1]['Age'].mean())\n",
    "print('Average age  show in time: ',df[df['No_show']==0]['Age'].mean())\n",
    "plt.title('Age vs Show and No_show');\n",
    "plt.xlabel('Age');\n",
    "plt.ylabel('Show=False vs No_show=True');"
   ]
  },
  {
   "cell_type": "markdown",
   "metadata": {},
   "source": [
    "The effect of age on the behavior of patients attending in the appointment is almost negligable"
   ]
  },
  {
   "cell_type": "markdown",
   "metadata": {},
   "source": [
    "### Research Question 4 :Does the address of the patient has effect on wether the patient will show up or not"
   ]
  },
  {
   "cell_type": "code",
   "execution_count": 18,
   "metadata": {},
   "outputs": [
    {
     "name": "stdout",
     "output_type": "stream",
     "text": [
      "AEROPORTO              0.125000\n",
      "ANDORINHAS             0.228021\n",
      "ANTÔNIO HONÓRIO        0.175097\n",
      "ARIOVALDO FAVALESSA    0.229323\n",
      "BARRO VERMELHO         0.218225\n",
      "BELA VISTA             0.194399\n",
      "BENTO FERREIRA         0.220118\n",
      "BOA VISTA              0.190164\n",
      "BONFIM                 0.199033\n",
      "CARATOÍRA              0.234483\n",
      "CENTRO                 0.209945\n",
      "COMDUSA                0.176080\n",
      "CONQUISTA              0.185644\n",
      "CONSOLAÇÃO             0.168939\n",
      "CRUZAMENTO             0.217682\n",
      "DA PENHA               0.196637\n",
      "DE LOURDES             0.151515\n",
      "DO CABRAL              0.157303\n",
      "DO MOSCOSO             0.226463\n",
      "DO QUADRO              0.163415\n",
      "ENSEADA DO SUÁ         0.222707\n",
      "ESTRELINHA             0.196629\n",
      "FONTE GRANDE           0.221212\n",
      "FORTE SÃO JOÃO         0.181208\n",
      "FRADINHOS              0.181102\n",
      "GOIABEIRAS             0.195620\n",
      "GRANDE VITÓRIA         0.203582\n",
      "GURIGICA               0.224802\n",
      "HORTO                  0.228916\n",
      "ILHA DAS CAIEIRAS      0.227948\n",
      "                         ...   \n",
      "PARQUE INDUSTRIAL           NaN\n",
      "PARQUE MOSCOSO         0.223919\n",
      "PIEDADE                0.188811\n",
      "PONTAL DE CAMBURI      0.173913\n",
      "PRAIA DO CANTO         0.184031\n",
      "PRAIA DO SUÁ           0.228753\n",
      "REDENÇÃO               0.172368\n",
      "REPÚBLICA              0.171779\n",
      "RESISTÊNCIA            0.203770\n",
      "ROMÃO                  0.216793\n",
      "SANTA CECÍLIA          0.270880\n",
      "SANTA CLARA            0.264766\n",
      "SANTA HELENA           0.206897\n",
      "SANTA LUÍZA            0.181384\n",
      "SANTA LÚCIA            0.196759\n",
      "SANTA MARTHA           0.159973\n",
      "SANTA TEREZA           0.207171\n",
      "SANTO ANDRÉ            0.197298\n",
      "SANTO ANTÔNIO          0.176316\n",
      "SANTOS DUMONT          0.289960\n",
      "SANTOS REIS            0.207767\n",
      "SEGURANÇA DO LAR       0.187050\n",
      "SOLON BORGES           0.148230\n",
      "SÃO BENEDITO           0.190335\n",
      "SÃO CRISTÓVÃO          0.201685\n",
      "SÃO JOSÉ               0.218986\n",
      "SÃO PEDRO              0.210820\n",
      "TABUAZEIRO             0.181728\n",
      "UNIVERSITÁRIO          0.211921\n",
      "VILA RUBIM             0.167672\n",
      "Name: Neighbourhood, Length: 81, dtype: float64\n"
     ]
    },
    {
     "data": {
      "text/plain": [
       "Text(0,0.5,'Count of Addresses')"
      ]
     },
     "execution_count": 18,
     "metadata": {},
     "output_type": "execute_result"
    },
    {
     "data": {
      "image/png": "[encoded data removed]",
      "text/plain": [
       "<matplotlib.figure.Figure at 0x7f5416c2d278>"
      ]
     },
     "metadata": {
      "needs_background": "light"
     },
     "output_type": "display_data"
    }
   ],
   "source": [
    "No_show_Neighbourhood=df[df['No_show']==1]['Neighbourhood'].value_counts()\n",
    "#scaling no show counts to totals\n",
    "print(df[df['No_show']==1]['Neighbourhood'].value_counts()/df['Neighbourhood'].value_counts())\n",
    "\n",
    "show_Neighbourhood=df['Neighbourhood'].value_counts()\n",
    "No_show_Neighbourhood.hist(color='r',alpha=0.3)\n",
    "show_Neighbourhood.hist(color='y',alpha=0.3)\n",
    "plt.title('No_show_Neighbourhood vs All')\n",
    "plt.legend(['No show-Neighbourhood', 'All'])\n",
    "plt.xlabel('Number of Patients')\n",
    "plt.ylabel('Count of Addresses')\n"
   ]
  },
  {
   "cell_type": "markdown",
   "metadata": {},
   "source": [
    "from the scaled ratio between No shows to totals counts of addresses no strong relation between address and no show behavior"
   ]
  },
  {
   "cell_type": "markdown",
   "metadata": {},
   "source": [
    "### Research Question 5 :Does the Scholarship of the patient has effect on wether the patient will show up or not"
   ]
  },
  {
   "cell_type": "code",
   "execution_count": 19,
   "metadata": {},
   "outputs": [
    {
     "name": "stdout",
     "output_type": "stream",
     "text": [
      " percentage of correlation:  88.12319448327275\n"
     ]
    },
    {
     "data": {
      "text/plain": [
       "Text(0.5,0,'Frequency scholarship (True vs False)')"
      ]
     },
     "execution_count": 19,
     "metadata": {},
     "output_type": "execute_result"
    },
    {
     "data": {
      "image/png": "[encoded data removed]",
      "text/plain": [
       "<matplotlib.figure.Figure at 0x7f54166f2e48>"
      ]
     },
     "metadata": {
      "needs_background": "light"
     },
     "output_type": "display_data"
    }
   ],
   "source": [
    "noshow_scholarship=df[df['No_show']==1].groupby('Scholarship')['Scholarship'].count()\n",
    "\n",
    "#print(pd.DataFrame(noshow_scholarship))\n",
    "noshow_scholarship.hist();\n",
    "#correlation\n",
    "print(' percentage of correlation: ',18913*100/(2549+18913))\n",
    "plt.ylabel('No_show(True,False)')\n",
    "plt.xlabel('Frequency scholarship (True vs False)')"
   ]
  },
  {
   "cell_type": "markdown",
   "metadata": {},
   "source": [
    "percentage of correlation:  88.12319448327275 .Strong relation between Scholarship and being on time for the scheduledday"
   ]
  },
  {
   "cell_type": "markdown",
   "metadata": {},
   "source": [
    "### Research Question 6:If the patient received an SMS,does this affect how he shows up or not."
   ]
  },
  {
   "cell_type": "code",
   "execution_count": 20,
   "metadata": {},
   "outputs": [
    {
     "name": "stdout",
     "output_type": "stream",
     "text": [
      "              SMS_received\n",
      "SMS_received              \n",
      "False                11894\n",
      "True                  9568\n",
      "41.761174116077385\n"
     ]
    },
    {
     "data": {
      "text/plain": [
       "Text(0.5,0,'Frequency Received SMS (True vs False)')"
      ]
     },
     "execution_count": 20,
     "metadata": {},
     "output_type": "execute_result"
    },
    {
     "data": {
      "image/png": "[encoded data removed]",
      "text/plain": [
       "<matplotlib.figure.Figure at 0x7f541699d240>"
      ]
     },
     "metadata": {
      "needs_background": "light"
     },
     "output_type": "display_data"
    }
   ],
   "source": [
    "noshow_SMS_received=df[df['No_show']==True].groupby('SMS_received')['SMS_received'].count()\n",
    "print(pd.DataFrame(noshow_SMS_received))\n",
    "noshow_SMS_received.hist();\n",
    "#correlation\n",
    "print(11894*100/(9568+18913))\n",
    "plt.ylabel('No_show(True,False)')\n",
    "plt.xlabel('Frequency Received SMS (True vs False)')"
   ]
  },
  {
   "cell_type": "markdown",
   "metadata": {},
   "source": [
    "percentage of correlation:  41.761174116077385 .week relation between receiving an SMS and being on time for the scheduledday"
   ]
  },
  {
   "cell_type": "markdown",
   "metadata": {},
   "source": [
    "##### <a id='conclusions'></a>\n",
    "## Conclusions\n",
    "#### Research Question 1  (Does Gender has effect how people show in the Scheduled day)\n",
    "1- Gender has no effect on wether the patient will show on the appointment day or not because the \n",
    "\n",
    "ratio of each gender no-show to the total number of that gender is equal as the statistical data \n",
    "\n",
    "reveal\n",
    "\n",
    "No of patients do not show:  21680\n",
    "\n",
    "No of patients shows in time:  85307\n",
    "\n",
    "No of Females in total:  70118\n",
    "\n",
    "No of males in total:  36869\n",
    "\n",
    "ratio of noshow females to total females:  0.203585384637\n",
    "\n",
    "ratio of noshow males to total females:  0.200846239388\n",
    "\n",
    "#### Research Question 2(Do the patients have preference of certain days to show up)\n",
    "2-Patients prefer go to hospital on Teusday and Wednsday more frequent than the other days while on \n",
    "\n",
    "Saturday the count of people is zero( may be weekend vacation in hospital)\n",
    "#### Research Question 3 :Does age has effect how people show in or not in the appointment day\n",
    "3-As the histograms show no considered effect on different ages of patients on the behavior of atending in the scheduled day  \n",
    "\n",
    "Average age show in time:  35.2998788557\n",
    "Average age does not show in time:  39.0845004064\n",
    "#### Research Question 4 :Does the address of the patient has effect on wether the patient will show up or not\n",
    "4-As shown from the scaled ratio between No shows to totals counts of addresses no strong relation between address and no show behavior\n",
    "#### Research Question 5 :Does the Scholarship of the patient has effect on wether the patient will show up or not\n",
    " A strong relationship(88%) between scholarship and showing up in the scheduled day and the opposite is true those who do not show up and not having scholarship\n",
    "#### Research Question 6:If the patient received an SMS,does this affect how he shows up or not\n",
    " A moderate relationship (41%) between Receiving SMS and showing up in the scheduled day\n",
    "### Limitations\n",
    "The only one limitation to this dataset that it is of small size that the statistical output will not reflect the perfect results\n",
    " "
   ]
  },
  {
   "cell_type": "code",
   "execution_count": 21,
   "metadata": {},
   "outputs": [
    {
     "data": {
      "text/plain": [
       "0"
      ]
     },
     "execution_count": 21,
     "metadata": {},
     "output_type": "execute_result"
    }
   ],
   "source": [
    "from subprocess import call\n",
    "call(['python', '-m', 'nbconvert', 'Investigate_a_Dataset.ipynb'])"
   ]
  }
 ],
 "metadata": {
  "kernelspec": {
   "display_name": "Python 3",
   "language": "python",
   "name": "python3"
  },
  "language_info": {
   "codemirror_mode": {
    "name": "ipython",
    "version": 3
   },
   "file_extension": ".py",
   "mimetype": "text/x-python",
   "name": "python",
   "nbconvert_exporter": "python",
   "pygments_lexer": "ipython3",
   "version": "3.6.3"
  }
 },
 "nbformat": 4,
 "nbformat_minor": 2
}
